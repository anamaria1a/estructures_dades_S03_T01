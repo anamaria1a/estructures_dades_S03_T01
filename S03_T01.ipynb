{
 "cells": [
  {
   "cell_type": "markdown",
   "id": "4e4dc83f",
   "metadata": {},
   "source": [
    "# S03T01"
   ]
  },
  {
   "cell_type": "markdown",
   "id": "53a81e6c",
   "metadata": {},
   "source": [
    "## Exercici 1\n",
    "\n",
    "Crea una llista que agrupi els mesos de l’any en trimestres (1T: Gener, Febrer i Març, 2T: Abril, Maig, Juny...), és a dir,\n",
    "una llista amb 4 llistes dins."
   ]
  },
  {
   "cell_type": "code",
   "execution_count": 21,
   "id": "89d6df95",
   "metadata": {},
   "outputs": [
    {
     "name": "stdout",
     "output_type": "stream",
     "text": [
      "[['January', 'February', 'March'], ['April', 'May', 'June'], ['July', 'August', 'September'], ['October', 'November', 'December']]\n"
     ]
    }
   ],
   "source": [
    "months = [\"January\", \"February\", \"March\", \"April\", \"May\", \"June\", \"July\", \"August\", \"September\", \"October\", \"November\", \"December\"]\n",
    "\n",
    "monthTrimesters = [[months[0], months[1], months[2]], [months[3], months[4], months[5]], [months[6], months[7], months[8]], [months[9], months[10], months[11]]]\n",
    "\n",
    "print (monthTrimesters)"
   ]
  },
  {
   "cell_type": "markdown",
   "id": "21901e67",
   "metadata": {},
   "source": [
    "## Exercici 2\n",
    "\n",
    "Crea un codi que et permeti accedir a:\n",
    "\n",
    "- El segon mes del primer trimestre"
   ]
  },
  {
   "cell_type": "code",
   "execution_count": 23,
   "id": "9e5c2888",
   "metadata": {},
   "outputs": [
    {
     "name": "stdout",
     "output_type": "stream",
     "text": [
      "February\n"
     ]
    }
   ],
   "source": [
    "print (monthTrimesters[0][1])"
   ]
  },
  {
   "cell_type": "markdown",
   "id": "c0eb9737",
   "metadata": {},
   "source": [
    "- Els mesos del primer trimestre\n"
   ]
  },
  {
   "cell_type": "code",
   "execution_count": 25,
   "id": "63023f76",
   "metadata": {},
   "outputs": [
    {
     "name": "stdout",
     "output_type": "stream",
     "text": [
      "['January', 'February', 'March']\n"
     ]
    }
   ],
   "source": [
    "print (monthTrimesters[0])"
   ]
  },
  {
   "cell_type": "markdown",
   "id": "77365560",
   "metadata": {},
   "source": [
    "- Setembre i octubre"
   ]
  },
  {
   "cell_type": "code",
   "execution_count": 31,
   "id": "78b179b1",
   "metadata": {},
   "outputs": [
    {
     "name": "stdout",
     "output_type": "stream",
     "text": [
      "September October\n"
     ]
    }
   ],
   "source": [
    "print ((monthTrimesters[2][2]),(monthTrimesters[3][0]))"
   ]
  },
  {
   "cell_type": "markdown",
   "id": "02cddd27",
   "metadata": {},
   "source": [
    "## Exercici 3\n",
    "Crea una llista amb nombres desordenats i respon a les següents preguntes:\n",
    "\n",
    "- Quants números hi ha?\n"
   ]
  },
  {
   "cell_type": "code",
   "execution_count": 32,
   "id": "d23a8cc9",
   "metadata": {},
   "outputs": [
    {
     "name": "stdout",
     "output_type": "stream",
     "text": [
      "6\n"
     ]
    }
   ],
   "source": [
    "num = [34, 867, 7, 987,23, 654546]\n",
    "\n",
    "print (len(num))"
   ]
  },
  {
   "cell_type": "markdown",
   "id": "812d4a39",
   "metadata": {},
   "source": [
    "- Quantes vegades apareix el número 3"
   ]
  },
  {
   "cell_type": "code",
   "execution_count": 34,
   "id": "38edf177",
   "metadata": {
    "scrolled": true
   },
   "outputs": [
    {
     "name": "stdout",
     "output_type": "stream",
     "text": [
      "0\n"
     ]
    }
   ],
   "source": [
    "print (num.count(3))"
   ]
  },
  {
   "cell_type": "markdown",
   "id": "6435d7a8",
   "metadata": {},
   "source": [
    "- Quantes vegades apareixen els nombres 3 i 4?\n"
   ]
  },
  {
   "cell_type": "code",
   "execution_count": 35,
   "id": "42e60455",
   "metadata": {},
   "outputs": [
    {
     "name": "stdout",
     "output_type": "stream",
     "text": [
      "(0, 0)\n"
     ]
    }
   ],
   "source": [
    "print ((num.count(3), num.count(4)))\n"
   ]
  },
  {
   "cell_type": "code",
   "execution_count": 39,
   "id": "2e0c8a9b",
   "metadata": {},
   "outputs": [
    {
     "name": "stdout",
     "output_type": "stream",
     "text": [
      "0 0\n"
     ]
    }
   ],
   "source": [
    "def count(list, x):\n",
    "    counter = 0\n",
    "    for n in list:\n",
    "        if (n == x):\n",
    "            counter = counter + 1\n",
    "    return counter\n",
    "\n",
    "print (count (num, 3), count (num, 4))"
   ]
  },
  {
   "cell_type": "markdown",
   "id": "38229226",
   "metadata": {},
   "source": [
    "- Quin és el número més gran?\n"
   ]
  },
  {
   "cell_type": "code",
   "execution_count": 40,
   "id": "4f23edd9",
   "metadata": {},
   "outputs": [
    {
     "name": "stdout",
     "output_type": "stream",
     "text": [
      "654546\n"
     ]
    }
   ],
   "source": [
    "print(max(num))"
   ]
  },
  {
   "cell_type": "markdown",
   "id": "ab3635dc",
   "metadata": {},
   "source": [
    "- Quins són els 3 números més petits?\n"
   ]
  },
  {
   "cell_type": "code",
   "execution_count": 41,
   "id": "f93d4b68",
   "metadata": {},
   "outputs": [
    {
     "name": "stdout",
     "output_type": "stream",
     "text": [
      "[7, 23, 34]\n"
     ]
    }
   ],
   "source": [
    "num.sort()\n",
    "\n",
    "print(num[:3])"
   ]
  },
  {
   "cell_type": "markdown",
   "id": "5240e0c5",
   "metadata": {},
   "source": [
    "- Quin és el rang d’aquesta llista?"
   ]
  },
  {
   "cell_type": "code",
   "execution_count": 42,
   "id": "8502497c",
   "metadata": {},
   "outputs": [
    {
     "name": "stdout",
     "output_type": "stream",
     "text": [
      "[7, 654546]\n"
     ]
    }
   ],
   "source": [
    "numRange = [min(num), max(num)]\n",
    "print (numRange)"
   ]
  },
  {
   "cell_type": "code",
   "execution_count": 43,
   "id": "2e7640a1",
   "metadata": {},
   "outputs": [
    {
     "name": "stdout",
     "output_type": "stream",
     "text": [
      "(7, 654546)\n"
     ]
    }
   ],
   "source": [
    "def rango(list):\n",
    "    x = min(list)\n",
    "    y = max(list)\n",
    "    return (x,y)\n",
    "\n",
    "print(rango(num))"
   ]
  },
  {
   "cell_type": "markdown",
   "id": "f539a66e",
   "metadata": {},
   "source": [
    "## Exercici 4\n",
    "Crea un diccionari de la següent forma i respon a les preguntes:\n",
    "\n",
    "compra = { \"Pomes\" : {\"Qty\": 5, \"€\": 0.42}, \"Peres\" : {\"Qty\": 3, \"€\": 0.66} }\n",
    "\n",
    "- Afegeix alguna fruita més"
   ]
  },
  {
   "cell_type": "code",
   "execution_count": 45,
   "id": "c6671487",
   "metadata": {},
   "outputs": [
    {
     "name": "stdout",
     "output_type": "stream",
     "text": [
      "{'Pomes': {'Qty': 5, '€': 0.42}, 'Peres': {'Qty': 3, '€': 0.66}, 'Raïms': {'Qty': 9, '€': 3.31}}\n"
     ]
    }
   ],
   "source": [
    "compra = { \"Pomes\" : {\"Qty\": 5, \"€\": 0.42}, \"Peres\" : {\"Qty\": 3, \"€\": 0.66} }\n",
    "compra [\"Raïms\"] = {\"Qty\": 9, \"€\": 3.31} \n",
    "print (compra)"
   ]
  },
  {
   "cell_type": "markdown",
   "id": "9bea2be1",
   "metadata": {},
   "source": [
    "- Quant han costat les peres en total?"
   ]
  },
  {
   "cell_type": "code",
   "execution_count": 94,
   "id": "63bb6584",
   "metadata": {},
   "outputs": [
    {
     "name": "stdout",
     "output_type": "stream",
     "text": [
      "1.98\n"
     ]
    }
   ],
   "source": [
    "print(compra[\"Peres\"][\"€\"] * compra[\"Peres\"]['Qty'])"
   ]
  },
  {
   "cell_type": "markdown",
   "id": "cf64d51f",
   "metadata": {},
   "source": [
    "- Quantes fruites hem comprat en total?"
   ]
  },
  {
   "cell_type": "code",
   "execution_count": 95,
   "id": "f5064b15",
   "metadata": {},
   "outputs": [
    {
     "name": "stdout",
     "output_type": "stream",
     "text": [
      "17\n"
     ]
    }
   ],
   "source": [
    "totalFruits = 0\n",
    "\n",
    "for fruits in compra:\n",
    "    totalFruits += compra[fruits]['Qty']\n",
    "    \n",
    "print(totalFruits)"
   ]
  },
  {
   "cell_type": "markdown",
   "id": "a9c8da22",
   "metadata": {},
   "source": [
    "- Quina és la fruita més cara?"
   ]
  },
  {
   "cell_type": "code",
   "execution_count": 114,
   "id": "d39df56d",
   "metadata": {},
   "outputs": [
    {
     "name": "stdout",
     "output_type": "stream",
     "text": [
      "The most expensive fruit is Raïms\n"
     ]
    }
   ],
   "source": [
    "#print(max(compra, key=lambda fruits: compra[fruits]['€']))\n",
    "\n",
    "fruits = list(compra.keys())\n",
    "price = {fruit: compra[fruit][\"€\"] for fruit in fruits}\n",
    "\n",
    "priceList = list(price.values())\n",
    "maxPrice = max(preus.values())\n",
    "indexExpensiveFruit = priceList.index(maxPrice)\n",
    "print (\"The most expensive fruit is \" + fruits[indexExpensiveFruit])\n"
   ]
  },
  {
   "cell_type": "code",
   "execution_count": null,
   "id": "b5b2f03a",
   "metadata": {},
   "outputs": [],
   "source": []
  }
 ],
 "metadata": {
  "kernelspec": {
   "display_name": "Python 3",
   "language": "python",
   "name": "python3"
  },
  "language_info": {
   "codemirror_mode": {
    "name": "ipython",
    "version": 3
   },
   "file_extension": ".py",
   "mimetype": "text/x-python",
   "name": "python",
   "nbconvert_exporter": "python",
   "pygments_lexer": "ipython3",
   "version": "3.8.8"
  }
 },
 "nbformat": 4,
 "nbformat_minor": 5
}
